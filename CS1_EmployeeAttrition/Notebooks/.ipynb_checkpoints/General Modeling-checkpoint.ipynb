{
 "cells": [
  {
   "cell_type": "code",
   "execution_count": 60,
   "id": "52c5ef05",
   "metadata": {},
   "outputs": [],
   "source": [
    "import pandas as pd\n",
    "import numpy as np\n",
    "from time import time\n",
    "#visualization\n",
    "import seaborn as sns\n",
    "from matplotlib import pyplot as plt\n",
    "#models\n",
    "from sklearn.naive_bayes import GaussianNB\n",
    "from sklearn.neighbors import KNeighborsClassifier\n",
    "from sklearn.linear_model import LogisticRegression\n",
    "from xgboost import XGBClassifier\n",
    "#sklearn stuff\n",
    "from sklearn.model_selection import GridSearchCV, KFold\n",
    "from sklearn.metrics import classification_report,confusion_matrix#,roc_curve,roc_auc_score\n",
    "#tree / forest stuff\n",
    "from sklearn.ensemble import RandomForestClassifier\n",
    "from sklearn.tree import export_graphviz\n",
    "from subprocess import call\n",
    "from IPython.display import Image\n",
    "#imblearn stuff\n",
    "from imblearn.pipeline import make_pipeline\n",
    "from imblearn.over_sampling import SMOTE\n",
    "#warnings\n",
    "import warnings\n",
    "warnings.filterwarnings(\"ignore\") # this will take away the red dialog boxes in the output terminal"
   ]
  },
  {
   "cell_type": "code",
   "execution_count": 77,
   "id": "1c583285",
   "metadata": {},
   "outputs": [],
   "source": [
    "X_train = pd.read_csv(\"../Data/TrainTest/X_train.csv\")\n",
    "X_test = pd.read_csv(\"../Data/TrainTest/X_test.csv\")\n",
    "y_train = pd.read_csv(\"../Data/TrainTest/y_train.csv\")\n",
    "y_test = pd.read_csv(\"../Data/TrainTest/y_test.csv\")"
   ]
  },
  {
   "cell_type": "code",
   "execution_count": 78,
   "id": "e5c3af6f",
   "metadata": {
    "scrolled": true
   },
   "outputs": [
    {
     "name": "stdout",
     "output_type": "stream",
     "text": [
      "0.16229348882410108\n",
      "0.15873015873015872\n"
     ]
    }
   ],
   "source": [
    "print(sum(y_train['Attrition_Yes'])/len(y_train))\n",
    "print(sum(y_test['Attrition_Yes'])/len(y_test))"
   ]
  },
  {
   "cell_type": "code",
   "execution_count": 79,
   "id": "5ba00124",
   "metadata": {},
   "outputs": [
    {
     "data": {
      "text/plain": [
       "5.161676646706586"
      ]
     },
     "execution_count": 79,
     "metadata": {},
     "output_type": "execute_result"
    }
   ],
   "source": [
    "perc_y = sum(y_train['Attrition_Yes'])/len(y_train)\n",
    "(1-perc_y)/perc_y\n",
    "#Anomoly detection algorithm\n"
   ]
  },
  {
   "cell_type": "code",
   "execution_count": 80,
   "id": "a3ea5fba",
   "metadata": {},
   "outputs": [],
   "source": [
    "# Get Metrics on models"
   ]
  },
  {
   "cell_type": "code",
   "execution_count": 81,
   "id": "b0bf6d80",
   "metadata": {},
   "outputs": [],
   "source": [
    "def run_suite(model_name,smote=True,rs=42,folds=5,scoring='f1'): #scoring on f1 for harmonic mean fo the model\n",
    "    \n",
    "    model = model_dict[model_name]['Model']\n",
    "    \n",
    "    if smote:\n",
    "        pipeline = make_pipeline(SMOTE(random_state=rs),model)\n",
    "        params = model_dict[model_name]['params']\n",
    "        params = {model_name+\"__\"+p:params[p] for p in params}\n",
    "    else:    \n",
    "        pipeline = model\n",
    "        params = model_dict[model_name]['params']\n",
    "        \n",
    "    cv = GridSearchCV(pipeline,\n",
    "                             param_grid=params,\n",
    "                             cv=KFold(n_splits=folds, random_state=rs, shuffle=True),\n",
    "                             scoring=scoring,\n",
    "                             return_train_score=True,\n",
    "                             n_jobs=-1,\n",
    "                             verbose=True)\n",
    "    \n",
    "    cv.fit(X_train,y_train)\n",
    "    best_e = cv.best_estimator_\n",
    "    y_pred = best_e.predict(X_test)\n",
    "    sns.heatmap(confusion_matrix(y_test,y_pred),cmap='Blues',annot=True,fmt='d')\n",
    "    \n",
    "    plt.show()\n",
    "    print(classification_report(y_test,y_pred,target_names=['Attrition_False','Attrition_True']))\n",
    "    if smote:\n",
    "        return best_e[model_name]\n",
    "    else:\n",
    "        return best_e"
   ]
  },
  {
   "cell_type": "code",
   "execution_count": 82,
   "id": "13c33dcd",
   "metadata": {},
   "outputs": [],
   "source": [
    "model_dict = {'randomforestclassifier':\n",
    "                {'Model':RandomForestClassifier(),\n",
    "                'params':{'n_estimators':list(range(10,121,10)),\n",
    "                          #'criterion':['gini','entropy'],\n",
    "                           #     'max_depth':[2,3,4,5,None],\n",
    "                                'max_features':['sqrt','log2',10]}}}\n",
    "\n",
    "model_dict['kneighborsclassifier']={'Model':KNeighborsClassifier(),\n",
    "               'params':{'p':[1,2],\n",
    "                    'weights':['uniform','distance'],\n",
    "                    'n_neighbors':list(range(3,10,2))}}\n",
    "\n",
    "\n",
    "model_dict['logisticregression']={'Model':LogisticRegression(),\n",
    "               'params':{'penalty':['l2','l1',None,'elasticnet']}}\n",
    "\n",
    "model_dict['xgbclassifier']={'Model':XGBClassifier(),\n",
    "               'params':{'learning_rate':list(x/10 for x in range(1,6)),\n",
    "                         'max_depth':list(range(3,5))+[\"None\"],\n",
    "                         'scale_pos_weight':[5],\n",
    "                         'n_estimators':[80,100,120]\n",
    "                        }}\n"
   ]
  },
  {
   "cell_type": "code",
   "execution_count": 83,
   "id": "26c95fd6",
   "metadata": {},
   "outputs": [],
   "source": [
    "best = {} #best_models"
   ]
  },
  {
   "cell_type": "markdown",
   "id": "7ae64aff",
   "metadata": {},
   "source": [
    "# XGBoost"
   ]
  },
  {
   "cell_type": "code",
   "execution_count": 85,
   "id": "e00bfe7c",
   "metadata": {},
   "outputs": [
    {
     "name": "stdout",
     "output_type": "stream",
     "text": [
      "Fitting 5 folds for each of 45 candidates, totalling 225 fits\n",
      "[12:59:10] WARNING: C:/Users/Administrator/workspace/xgboost-win64_release_1.5.0/src/learner.cc:1115: Starting in XGBoost 1.3.0, the default evaluation metric used with the objective 'binary:logistic' was changed from 'error' to 'logloss'. Explicitly set eval_metric if you'd like to restore the old behavior.\n"
     ]
    },
    {
     "data": {
      "image/png": "[encoded data removed]",
      "text/plain": [
       "<Figure size 432x288 with 2 Axes>"
      ]
     },
     "metadata": {
      "needs_background": "light"
     },
     "output_type": "display_data"
    },
    {
     "name": "stdout",
     "output_type": "stream",
     "text": [
      "                 precision    recall  f1-score   support\n",
      "\n",
      "Attrition_False       0.91      0.95      0.93       371\n",
      " Attrition_True       0.66      0.53      0.59        70\n",
      "\n",
      "       accuracy                           0.88       441\n",
      "      macro avg       0.79      0.74      0.76       441\n",
      "   weighted avg       0.87      0.88      0.88       441\n",
      "\n"
     ]
    }
   ],
   "source": [
    "best['XGBC'] = run_suite('xgbclassifier',smote=False)\n",
    "#best['Smote_XGBC'] = run_suite('xgbclassifier',smote=True)"
   ]
  },
  {
   "cell_type": "markdown",
   "id": "97d0591a",
   "metadata": {},
   "source": [
    "# K-Nearest neighbor"
   ]
  },
  {
   "cell_type": "code",
   "execution_count": 86,
   "id": "db42384c",
   "metadata": {},
   "outputs": [
    {
     "name": "stdout",
     "output_type": "stream",
     "text": [
      "Fitting 5 folds for each of 16 candidates, totalling 80 fits\n"
     ]
    },
    {
     "data": {
      "image/png": "[encoded data removed]",
      "text/plain": [
       "<Figure size 432x288 with 2 Axes>"
      ]
     },
     "metadata": {
      "needs_background": "light"
     },
     "output_type": "display_data"
    },
    {
     "name": "stdout",
     "output_type": "stream",
     "text": [
      "                 precision    recall  f1-score   support\n",
      "\n",
      "Attrition_False       0.86      0.97      0.91       371\n",
      " Attrition_True       0.52      0.17      0.26        70\n",
      "\n",
      "       accuracy                           0.84       441\n",
      "      macro avg       0.69      0.57      0.59       441\n",
      "   weighted avg       0.81      0.84      0.81       441\n",
      "\n",
      "Fitting 5 folds for each of 16 candidates, totalling 80 fits\n"
     ]
    },
    {
     "data": {
      "image/png": "[encoded data removed]",
      "text/plain": [
       "<Figure size 432x288 with 2 Axes>"
      ]
     },
     "metadata": {
      "needs_background": "light"
     },
     "output_type": "display_data"
    },
    {
     "name": "stdout",
     "output_type": "stream",
     "text": [
      "                 precision    recall  f1-score   support\n",
      "\n",
      "Attrition_False       0.89      0.82      0.86       371\n",
      " Attrition_True       0.34      0.49      0.40        70\n",
      "\n",
      "       accuracy                           0.77       441\n",
      "      macro avg       0.62      0.66      0.63       441\n",
      "   weighted avg       0.81      0.77      0.79       441\n",
      "\n"
     ]
    }
   ],
   "source": [
    "best['KNN'] = run_suite('kneighborsclassifier',smote=False)\n",
    "best['Smote_KNN'] = run_suite('kneighborsclassifier',smote=True)"
   ]
  },
  {
   "cell_type": "code",
   "execution_count": null,
   "id": "78d8576a",
   "metadata": {},
   "outputs": [],
   "source": []
  },
  {
   "cell_type": "markdown",
   "id": "8a0f7cf1",
   "metadata": {},
   "source": [
    "# Logistic Regression"
   ]
  },
  {
   "cell_type": "code",
   "execution_count": 87,
   "id": "083f46a1",
   "metadata": {
    "scrolled": true
   },
   "outputs": [
    {
     "name": "stdout",
     "output_type": "stream",
     "text": [
      "Fitting 5 folds for each of 4 candidates, totalling 20 fits\n"
     ]
    },
    {
     "data": {
      "image/png": "[encoded data removed]",
      "text/plain": [
       "<Figure size 432x288 with 2 Axes>"
      ]
     },
     "metadata": {
      "needs_background": "light"
     },
     "output_type": "display_data"
    },
    {
     "name": "stdout",
     "output_type": "stream",
     "text": [
      "                 precision    recall  f1-score   support\n",
      "\n",
      "Attrition_False       0.91      0.96      0.93       371\n",
      " Attrition_True       0.72      0.47      0.57        70\n",
      "\n",
      "       accuracy                           0.89       441\n",
      "      macro avg       0.81      0.72      0.75       441\n",
      "   weighted avg       0.88      0.89      0.88       441\n",
      "\n",
      "Fitting 5 folds for each of 4 candidates, totalling 20 fits\n"
     ]
    },
    {
     "data": {
      "image/png": "[encoded data removed]",
      "text/plain": [
       "<Figure size 432x288 with 2 Axes>"
      ]
     },
     "metadata": {
      "needs_background": "light"
     },
     "output_type": "display_data"
    },
    {
     "name": "stdout",
     "output_type": "stream",
     "text": [
      "                 precision    recall  f1-score   support\n",
      "\n",
      "Attrition_False       0.93      0.77      0.84       371\n",
      " Attrition_True       0.35      0.67      0.46        70\n",
      "\n",
      "       accuracy                           0.75       441\n",
      "      macro avg       0.64      0.72      0.65       441\n",
      "   weighted avg       0.83      0.75      0.78       441\n",
      "\n"
     ]
    }
   ],
   "source": [
    "best['LogReg'] = run_suite('logisticregression',smote=False)\n",
    "best['Smote_LogReg'] = run_suite('logisticregression',smote=True)"
   ]
  },
  {
   "cell_type": "markdown",
   "id": "c6c3daf1",
   "metadata": {},
   "source": [
    "# Random Forest"
   ]
  },
  {
   "cell_type": "code",
   "execution_count": 88,
   "id": "c101f898",
   "metadata": {
    "scrolled": true
   },
   "outputs": [
    {
     "name": "stdout",
     "output_type": "stream",
     "text": [
      "Fitting 5 folds for each of 36 candidates, totalling 180 fits\n"
     ]
    },
    {
     "data": {
      "image/png": "[encoded data removed]",
      "text/plain": [
       "<Figure size 432x288 with 2 Axes>"
      ]
     },
     "metadata": {
      "needs_background": "light"
     },
     "output_type": "display_data"
    },
    {
     "name": "stdout",
     "output_type": "stream",
     "text": [
      "                 precision    recall  f1-score   support\n",
      "\n",
      "Attrition_False       0.86      0.98      0.92       371\n",
      " Attrition_True       0.62      0.14      0.23        70\n",
      "\n",
      "       accuracy                           0.85       441\n",
      "      macro avg       0.74      0.56      0.57       441\n",
      "   weighted avg       0.82      0.85      0.81       441\n",
      "\n",
      "Fitting 5 folds for each of 36 candidates, totalling 180 fits\n"
     ]
    },
    {
     "data": {
      "image/png": "[encoded data removed]",
      "text/plain": [
       "<Figure size 432x288 with 2 Axes>"
      ]
     },
     "metadata": {
      "needs_background": "light"
     },
     "output_type": "display_data"
    },
    {
     "name": "stdout",
     "output_type": "stream",
     "text": [
      "                 precision    recall  f1-score   support\n",
      "\n",
      "Attrition_False       0.88      0.98      0.93       371\n",
      " Attrition_True       0.76      0.31      0.44        70\n",
      "\n",
      "       accuracy                           0.88       441\n",
      "      macro avg       0.82      0.65      0.69       441\n",
      "   weighted avg       0.86      0.88      0.85       441\n",
      "\n"
     ]
    }
   ],
   "source": [
    "best['RF'] = run_suite('randomforestclassifier',smote=False)\n",
    "best['Smote_RF'] = run_suite('randomforestclassifier',smote=True)"
   ]
  },
  {
   "cell_type": "code",
   "execution_count": 89,
   "id": "383b91fe",
   "metadata": {},
   "outputs": [
    {
     "data": {
      "text/plain": [
       "<AxesSubplot:>"
      ]
     },
     "execution_count": 89,
     "metadata": {},
     "output_type": "execute_result"
    },
    {
     "data": {
      "image/png": "[encoded data removed]",
      "text/plain": [
       "<Figure size 432x288 with 1 Axes>"
      ]
     },
     "metadata": {
      "needs_background": "light"
     },
     "output_type": "display_data"
    }
   ],
   "source": [
    "feature_rank = pd.Series(best['Smote_RF'].feature_importances_,index=X_train.columns).sort_values(ascending=False)\n",
    "top_10 = feature_rank.head(20)\n",
    "sns.barplot(top_10,top_10.index)"
   ]
  },
  {
   "cell_type": "code",
   "execution_count": 90,
   "id": "2dd118be",
   "metadata": {},
   "outputs": [
    {
     "data": {
      "text/plain": [
       "<AxesSubplot:>"
      ]
     },
     "execution_count": 90,
     "metadata": {},
     "output_type": "execute_result"
    },
    {
     "data": {
      "image/png": "[encoded data removed]",
      "text/plain": [
       "<Figure size 432x288 with 1 Axes>"
      ]
     },
     "metadata": {
      "needs_background": "light"
     },
     "output_type": "display_data"
    }
   ],
   "source": [
    "feature_rank = pd.Series(best['RF'].feature_importances_,index=X_train.columns).sort_values(ascending=False)\n",
    "top_10 = feature_rank.head(20)\n",
    "sns.barplot(top_10,top_10.index)"
   ]
  },
  {
   "cell_type": "code",
   "execution_count": null,
   "id": "908af228",
   "metadata": {},
   "outputs": [],
   "source": []
  },
  {
   "cell_type": "code",
   "execution_count": null,
   "id": "aa8fa044",
   "metadata": {},
   "outputs": [],
   "source": []
  },
  {
   "cell_type": "code",
   "execution_count": null,
   "id": "acd3675c",
   "metadata": {},
   "outputs": [],
   "source": []
  },
  {
   "cell_type": "code",
   "execution_count": null,
   "id": "fc6ab8c8",
   "metadata": {},
   "outputs": [],
   "source": []
  },
  {
   "cell_type": "code",
   "execution_count": null,
   "id": "09c37ed1",
   "metadata": {},
   "outputs": [],
   "source": []
  },
  {
   "cell_type": "code",
   "execution_count": null,
   "id": "cf39bf08",
   "metadata": {
    "scrolled": true
   },
   "outputs": [],
   "source": []
  },
  {
   "cell_type": "code",
   "execution_count": null,
   "id": "149e17cc",
   "metadata": {},
   "outputs": [],
   "source": []
  }
 ],
 "metadata": {
  "kernelspec": {
   "display_name": "Python 3",
   "language": "python",
   "name": "python3"
  },
  "language_info": {
   "codemirror_mode": {
    "name": "ipython",
    "version": 3
   },
   "file_extension": ".py",
   "mimetype": "text/x-python",
   "name": "python",
   "nbconvert_exporter": "python",
   "pygments_lexer": "ipython3",
   "version": "3.8.8"
  }
 },
 "nbformat": 4,
 "nbformat_minor": 5
}
