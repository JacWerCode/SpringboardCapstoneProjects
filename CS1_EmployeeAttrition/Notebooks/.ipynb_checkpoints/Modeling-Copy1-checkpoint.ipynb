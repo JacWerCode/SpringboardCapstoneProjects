{
 "cells": [
  {
   "cell_type": "code",
   "execution_count": 2,
   "id": "52c5ef05",
   "metadata": {},
   "outputs": [],
   "source": [
    "import pandas as pd\n",
    "import numpy as np\n",
    "from sklearn.ensemble import RandomForestClassifier\n",
    "from sklearn.tree import export_graphviz\n",
    "import seaborn as sns\n",
    "from subprocess import call\n",
    "from IPython.display import Image\n",
    "from sklearn.model_selection import train_test_split, GridSearchCV\n",
    "from sklearn.metrics import precision_recall_curve\n",
    "from sklearn.metrics import f1_score\n",
    "from sklearn.metrics import auc\n",
    "from sklearn.linear_model import LogisticRegression\n",
    "from sklearn.metrics import classification_report,confusion_matrix,roc_curve,roc_auc_score\n",
    "from sklearn.metrics import accuracy_score,log_loss\n",
    "from matplotlib import pyplot as plt\n",
    "import warnings\n",
    "warnings.filterwarnings(\"ignore\") # this will take away the red dialog boxes in the output terminal"
   ]
  },
  {
   "cell_type": "code",
   "execution_count": 4,
   "id": "1c583285",
   "metadata": {},
   "outputs": [],
   "source": [
    "X = pd.read_csv(\"../Data/TrainTest/X.csv\")\n",
    "y = pd.read_csv(\"../Data/TrainTest/y.csv\")\n",
    "X_train_scaled = pd.read_csv(\"../Data/TrainTest/X_train_scaled.csv\")\n",
    "X_test_scaled = pd.read_csv(\"../Data/TrainTest/X_test_scaled.csv\")\n",
    "y_train = pd.read_csv(\"../Data/TrainTest/y_train.csv\")\n",
    "y_test = pd.read_csv(\"../Data/TrainTest/y_test.csv\")"
   ]
  },
  {
   "cell_type": "markdown",
   "id": "11c38db2",
   "metadata": {},
   "source": [
    "# Random Forest"
   ]
  },
  {
   "cell_type": "code",
   "execution_count": 5,
   "id": "870e1f04",
   "metadata": {},
   "outputs": [],
   "source": [
    "parameters =  {'n_estimators':list(range(10,121,10)),\n",
    "                    'max_depth':list(range(2,4,1)),\n",
    "                    'max_features':['sqrt','log2',10]}\n",
    "cv = GridSearchCV(RandomForestClassifier(), parameters,cv=5)\n",
    "cv.fit(X,y)\n",
    "    \n",
    "print(cv.best_estimator_ , cv.best_score_)"
   ]
  },
  {
   "cell_type": "code",
   "execution_count": 6,
   "id": "326bfdc5",
   "metadata": {},
   "outputs": [],
   "source": [
    "def evaluate_model(model,X_test,y_test):\n",
    "    y_pred = model.predict(X_test)\n",
    "    y_pred_prob = model.predict_proba(X_test)\n",
    "    lr_probs = y_pred_prob[:,1]\n",
    "    ac = accuracy_score(y_test, y_pred)\n",
    "\n",
    "    f1 = f1_score(y_test, y_pred, average='weighted')\n",
    "    cm = confusion_matrix(y_test, y_pred)\n",
    "\n",
    "    print('Random Forest: Accuracy=%.3f' % (ac))\n",
    "\n",
    "    print('Random Forest: f1-score=%.3f' % (f1))\n",
    "    print(sns.heatmap(cm,annot=True,cmap='Blues',fmt=\".0f\"))\n",
    "    plt.ylabel('True label')\n",
    "    plt.xlabel('Predicted label')"
   ]
  },
  {
   "cell_type": "code",
   "execution_count": 7,
   "id": "db42384c",
   "metadata": {},
   "outputs": [],
   "source": [
    "def correlaction(cleaned_df):\n",
    "    Attrition_corr = cleaned_df.corr()[['Attrition_Yes']].drop('Attrition_Yes')\n",
    "    Attrition_corr.sort_values('Attrition_Yes',ascending=False,inplace=True,key=lambda x:abs(x))\n",
    "    sns.heatmap(Attrition_corr.head(10),annot=True,cmap='Blues')"
   ]
  },
  {
   "cell_type": "code",
   "execution_count": null,
   "id": "bff10cf4",
   "metadata": {},
   "outputs": [],
   "source": []
  },
  {
   "cell_type": "code",
   "execution_count": null,
   "id": "44cb76bd",
   "metadata": {},
   "outputs": [],
   "source": []
  },
  {
   "cell_type": "code",
   "execution_count": null,
   "id": "c101f898",
   "metadata": {},
   "outputs": [],
   "source": []
  },
  {
   "cell_type": "code",
   "execution_count": null,
   "id": "383b91fe",
   "metadata": {},
   "outputs": [],
   "source": []
  },
  {
   "cell_type": "code",
   "execution_count": null,
   "id": "0bef3096",
   "metadata": {},
   "outputs": [],
   "source": []
  },
  {
   "cell_type": "code",
   "execution_count": null,
   "id": "2dd118be",
   "metadata": {},
   "outputs": [],
   "source": []
  },
  {
   "cell_type": "code",
   "execution_count": null,
   "id": "908af228",
   "metadata": {},
   "outputs": [],
   "source": []
  }
 ],
 "metadata": {
  "kernelspec": {
   "display_name": "Python 3",
   "language": "python",
   "name": "python3"
  },
  "language_info": {
   "codemirror_mode": {
    "name": "ipython",
    "version": 3
   },
   "file_extension": ".py",
   "mimetype": "text/x-python",
   "name": "python",
   "nbconvert_exporter": "python",
   "pygments_lexer": "ipython3",
   "version": "3.8.8"
  }
 },
 "nbformat": 4,
 "nbformat_minor": 5
}
