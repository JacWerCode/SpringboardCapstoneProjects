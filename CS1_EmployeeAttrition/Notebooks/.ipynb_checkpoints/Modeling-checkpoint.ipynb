{
 "cells": [
  {
   "cell_type": "code",
   "execution_count": 1,
   "id": "52c5ef05",
   "metadata": {},
   "outputs": [],
   "source": [
    "import pandas as pd\n",
    "import numpy as np\n",
    "from time import time\n",
    "#visualization\n",
    "import seaborn as sns\n",
    "from matplotlib import pyplot as plt\n",
    "#models\n",
    "from sklearn.naive_bayes import GaussianNB\n",
    "from sklearn.neighbors import KNeighborsClassifier\n",
    "from sklearn.linear_model import LogisticRegression\n",
    "from xgboost import XGBClassifier\n",
    "#sklearn stuff\n",
    "from sklearn.model_selection import GridSearchCV, KFold\n",
    "from sklearn.metrics import classification_report,confusion_matrix,roc_curve,roc_auc_score,precision_recall_curve, f1_score, auc\n",
    "#tree / forest stuff\n",
    "from sklearn.ensemble import RandomForestClassifier\n",
    "from sklearn.tree import export_graphviz\n",
    "from subprocess import call\n",
    "from IPython.display import Image\n",
    "#imblearn stuff\n",
    "from imblearn.pipeline import make_pipeline\n",
    "from imblearn.over_sampling import SMOTE\n",
    "#warnings\n",
    "import warnings\n",
    "warnings.filterwarnings(\"ignore\") # this will take away the red dialog boxes in the output terminal"
   ]
  },
  {
   "cell_type": "code",
   "execution_count": 2,
   "id": "1c583285",
   "metadata": {},
   "outputs": [],
   "source": [
    "X_train = pd.read_csv(\"../Data/TrainTest/X_train.csv\")\n",
    "X_test = pd.read_csv(\"../Data/TrainTest/X_test.csv\")\n",
    "y_train = pd.read_csv(\"../Data/TrainTest/y_train.csv\")\n",
    "y_test = pd.read_csv(\"../Data/TrainTest/y_test.csv\")"
   ]
  },
  {
   "cell_type": "code",
   "execution_count": 3,
   "id": "e5c3af6f",
   "metadata": {
    "scrolled": true
   },
   "outputs": [
    {
     "name": "stdout",
     "output_type": "stream",
     "text": [
      "0.16229348882410108\n",
      "0.15873015873015872\n"
     ]
    }
   ],
   "source": [
    "print(sum(y_train['Attrition_Yes'])/len(y_train))\n",
    "print(sum(y_test['Attrition_Yes'])/len(y_test))"
   ]
  },
  {
   "cell_type": "code",
   "execution_count": 4,
   "id": "5ba00124",
   "metadata": {},
   "outputs": [
    {
     "data": {
      "text/plain": [
       "5.161676646706586"
      ]
     },
     "execution_count": 4,
     "metadata": {},
     "output_type": "execute_result"
    }
   ],
   "source": [
    "perc_y = sum(y_train['Attrition_Yes'])/len(y_train)\n",
    "(1-perc_y)/perc_y\n",
    "#Anomoly detection algorithm\n"
   ]
  },
  {
   "cell_type": "code",
   "execution_count": null,
   "id": "6f07d2af",
   "metadata": {},
   "outputs": [],
   "source": []
  },
  {
   "cell_type": "code",
   "execution_count": 5,
   "id": "a3ea5fba",
   "metadata": {},
   "outputs": [],
   "source": [
    "# Get Metrics on models"
   ]
  },
  {
   "cell_type": "code",
   "execution_count": 6,
   "id": "00204e82",
   "metadata": {},
   "outputs": [],
   "source": [
    "def get_maxtrix_report(model,X_test,y_test):\n",
    "    y_pred = model.predict(X_test)\n",
    "    \n",
    "    con_mat = confusion_matrix(y_test,y_pred)\n",
    "    sns.heatmap(con_mat,cmap='Blues',annot=True,fmt='d')\n",
    "    plt.show()\n",
    "    class_report = classification_report(y_test,y_pred,target_names=['Attrition_False','Attrition_True'])\n",
    "    print(class_report)\n",
    "    return con_mat, class_report"
   ]
  },
  {
   "cell_type": "code",
   "execution_count": 7,
   "id": "b0bf6d80",
   "metadata": {},
   "outputs": [],
   "source": [
    "def run_suite(model_name,smote=True,rs=42,folds=5,scoring='f1'): #scoring on f1 for harmonic mean fo the model\n",
    "    \n",
    "    model = model_dict[model_name]['Model']\n",
    "    \n",
    "    if smote:\n",
    "        pipeline = make_pipeline(SMOTE(random_state=rs),model)\n",
    "        params = model_dict[model_name]['params']\n",
    "        params = {model_name+\"__\"+p:params[p] for p in params}\n",
    "    else:    \n",
    "        pipeline = model\n",
    "        params = model_dict[model_name]['params']\n",
    "        \n",
    "    cv = GridSearchCV(pipeline,\n",
    "                             param_grid=params,\n",
    "                             cv=KFold(n_splits=folds, random_state=rs, shuffle=True),\n",
    "                             scoring=scoring,\n",
    "                             return_train_score=True,\n",
    "                             n_jobs=-1,\n",
    "                             verbose=True)\n",
    "    \n",
    "    cv.fit(X_train,y_train)\n",
    "    best_e = cv.best_estimator_\n",
    "    \n",
    "    _,_ = get_maxtrix_report(best_e,X_test,y_test)\n",
    "    if smote:\n",
    "        return best_e[model_name]\n",
    "    else:\n",
    "        return best_e"
   ]
  },
  {
   "cell_type": "code",
   "execution_count": null,
   "id": "43984e3a",
   "metadata": {},
   "outputs": [],
   "source": [
    "def graph_prec_rec_curve(model_names,X_test,y_test):\n",
    "    # predict probabilities # keep probabilities for the positive outcome only\n",
    "    for i, model_name in enumerate(model_names):\n",
    "        model = best[model_name]\n",
    "        model_probs =model.predict_proba(X_test)[:, 1]\n",
    "        # predict class values\n",
    "        yhat = model.predict(X_test)\n",
    "        model_precision, model_recall, _ = precision_recall_curve(y_test[\"Attrition_Yes\"], model_probs)\n",
    "        model_f1 = f1_score(y_test[\"Attrition_Yes\"], yhat)\n",
    "        model_auc= auc(model_recall, model_precision)\n",
    "        # summarize scores\n",
    "        print(model_name,'f1=%.3f auc=%.3f' % (model_f1, model_auc))\n",
    "        # plot the precision-recall curves\n",
    "        \n",
    "        style = {0:(\"-\",\"r\"),\n",
    "                    1:(\":\",\"b\"),\n",
    "                    2:(\"--\",\"k\")}\n",
    "        \n",
    "        marker,color = style[i]\n",
    "        plt.plot(model_recall, model_precision, linestyle=marker,color=color,label=model_name)\n",
    "    \n",
    "    no_skill = sum(y_test[\"Attrition_Yes\"])/ len(y_test)\n",
    "    plt.plot([0, 1], [no_skill, no_skill], linestyle='-',color=\"y\",label='No Skill')\n",
    "    # axis labels\n",
    "    \n",
    "    plt.xlabel('Recall')\n",
    "    plt.ylabel('Precision')\n",
    "    # show the legend\n",
    "    plt.legend()\n",
    "    # show the plot\n",
    "    plt.show()\n",
    "\n",
    "models = ['Smote_XGBC','XGBC','LogReg']\n",
    "graph_prec_rec_curve(models,X_test,y_test)"
   ]
  },
  {
   "cell_type": "code",
   "execution_count": null,
   "id": "5b8420cb",
   "metadata": {},
   "outputs": [],
   "source": []
  },
  {
   "cell_type": "code",
   "execution_count": 13,
   "id": "13c33dcd",
   "metadata": {},
   "outputs": [],
   "source": [
    "model_dict = {'randomforestclassifier':\n",
    "                {'Model':RandomForestClassifier(),\n",
    "                'params':{'n_estimators':list(range(10,121,10)),\n",
    "                          #'criterion':['gini','entropy'],\n",
    "                           #     'max_depth':[2,3,4,5,None],\n",
    "                                'max_features':['sqrt','log2',10]}}}\n",
    "\n",
    "model_dict['kneighborsclassifier']={'Model':KNeighborsClassifier(),\n",
    "               'params':{'p':[1,2],\n",
    "                    'weights':['uniform','distance'],\n",
    "                    'n_neighbors':list(range(3,10,2))}}\n",
    "\n",
    "\n",
    "model_dict['logisticregression']={'Model':LogisticRegression(),\n",
    "               'params':{'penalty':['l2','l1',None,'elasticnet']}}\n",
    "\n",
    "model_dict['xgbclassifier']={'Model':XGBClassifier(),\n",
    "               'params':{'learning_rate':np.arange(.1,.5,.1),\n",
    "                         'max_depth':[3,4,5,\"None\"],\n",
    "                         'scale_pos_weight':[5],\n",
    "                         'n_estimators':np.arange(60,151,10)\n",
    "                        }}\n"
   ]
  },
  {
   "cell_type": "code",
   "execution_count": 14,
   "id": "26c95fd6",
   "metadata": {},
   "outputs": [],
   "source": [
    "best = {} #best_models"
   ]
  },
  {
   "cell_type": "markdown",
   "id": "7ae64aff",
   "metadata": {},
   "source": [
    "# XGBoost"
   ]
  },
  {
   "cell_type": "code",
   "execution_count": null,
   "id": "e00bfe7c",
   "metadata": {
    "scrolled": true
   },
   "outputs": [
    {
     "name": "stdout",
     "output_type": "stream",
     "text": [
      "Fitting 5 folds for each of 160 candidates, totalling 800 fits\n",
      "[17:11:15] WARNING: C:/Users/Administrator/workspace/xgboost-win64_release_1.5.0/src/learner.cc:1115: Starting in XGBoost 1.3.0, the default evaluation metric used with the objective 'binary:logistic' was changed from 'error' to 'logloss'. Explicitly set eval_metric if you'd like to restore the old behavior.\n"
     ]
    },
    {
     "data": {
      "image/png": "[encoded data removed]",
      "text/plain": [
       "<Figure size 432x288 with 2 Axes>"
      ]
     },
     "metadata": {
      "needs_background": "light"
     },
     "output_type": "display_data"
    },
    {
     "name": "stdout",
     "output_type": "stream",
     "text": [
      "                 precision    recall  f1-score   support\n",
      "\n",
      "Attrition_False       0.91      0.90      0.90       371\n",
      " Attrition_True       0.49      0.53      0.51        70\n",
      "\n",
      "       accuracy                           0.84       441\n",
      "      macro avg       0.70      0.71      0.71       441\n",
      "   weighted avg       0.84      0.84      0.84       441\n",
      "\n",
      "Fitting 5 folds for each of 160 candidates, totalling 800 fits\n"
     ]
    }
   ],
   "source": [
    "best['XGBC'] = run_suite('xgbclassifier',smote=False)\n",
    "best['Smote_XGBC'] = run_suite('xgbclassifier',smote=True)"
   ]
  },
  {
   "cell_type": "code",
   "execution_count": null,
   "id": "250d9e29",
   "metadata": {},
   "outputs": [],
   "source": []
  },
  {
   "cell_type": "code",
   "execution_count": null,
   "id": "638f9dba",
   "metadata": {},
   "outputs": [],
   "source": []
  },
  {
   "cell_type": "code",
   "execution_count": null,
   "id": "f7cec720",
   "metadata": {},
   "outputs": [],
   "source": []
  },
  {
   "cell_type": "code",
   "execution_count": 11,
   "id": "4ff942af",
   "metadata": {
    "scrolled": true
   },
   "outputs": [],
   "source": []
  },
  {
   "cell_type": "code",
   "execution_count": null,
   "id": "34c08384",
   "metadata": {},
   "outputs": [],
   "source": []
  },
  {
   "cell_type": "code",
   "execution_count": null,
   "id": "69da9e64",
   "metadata": {
    "scrolled": true
   },
   "outputs": [],
   "source": [
    "feature_rank = pd.Series(best['XGBC'].feature_importances_,index=X_train.columns).sort_values(ascending=False)\n",
    "top_10 = feature_rank.head(10)\n",
    "sns.barplot(top_10,top_10.index)"
   ]
  },
  {
   "cell_type": "code",
   "execution_count": null,
   "id": "ecd4ab9a",
   "metadata": {},
   "outputs": [],
   "source": [
    "feature_rank = pd.Series(best['Smote_XGBC'].feature_importances_,index=X_train.columns).sort_values(ascending=False)\n",
    "top_10 = feature_rank.head(10)\n",
    "sns.barplot(top_10,top_10.index)"
   ]
  },
  {
   "cell_type": "code",
   "execution_count": null,
   "id": "5392a8ca",
   "metadata": {},
   "outputs": [],
   "source": [
    "best['Smote_XGBC']"
   ]
  },
  {
   "cell_type": "code",
   "execution_count": null,
   "id": "1a37816d",
   "metadata": {},
   "outputs": [],
   "source": [
    "best['XGBC']"
   ]
  },
  {
   "cell_type": "code",
   "execution_count": null,
   "id": "376f7d6f",
   "metadata": {},
   "outputs": [],
   "source": []
  },
  {
   "cell_type": "code",
   "execution_count": null,
   "id": "6694a9ea",
   "metadata": {},
   "outputs": [],
   "source": []
  },
  {
   "cell_type": "markdown",
   "id": "97d0591a",
   "metadata": {},
   "source": [
    "# K-Nearest neighbor"
   ]
  },
  {
   "cell_type": "code",
   "execution_count": null,
   "id": "db42384c",
   "metadata": {},
   "outputs": [],
   "source": [
    "best['KNN'] = run_suite('kneighborsclassifier',smote=False)\n",
    "best['Smote_KNN'] = run_suite('kneighborsclassifier',smote=True)"
   ]
  },
  {
   "cell_type": "code",
   "execution_count": null,
   "id": "78d8576a",
   "metadata": {},
   "outputs": [],
   "source": []
  },
  {
   "cell_type": "markdown",
   "id": "8a0f7cf1",
   "metadata": {},
   "source": [
    "# Logistic Regression"
   ]
  },
  {
   "cell_type": "code",
   "execution_count": null,
   "id": "083f46a1",
   "metadata": {
    "scrolled": true
   },
   "outputs": [],
   "source": [
    "best['LogReg'] = run_suite('logisticregression',smote=False)\n",
    "best['Smote_LogReg'] = run_suite('logisticregression',smote=True)"
   ]
  },
  {
   "cell_type": "code",
   "execution_count": null,
   "id": "4da10f1c",
   "metadata": {},
   "outputs": [],
   "source": []
  },
  {
   "cell_type": "code",
   "execution_count": null,
   "id": "1a925eae",
   "metadata": {},
   "outputs": [],
   "source": [
    "feature_rank = pd.Series(best['LogReg'].coef_[0],index=X_train.columns).sort_values(ascending=False)\n",
    "top_10 = feature_rank.head(5)\n",
    "sns.barplot(top_10,top_10.index)"
   ]
  },
  {
   "cell_type": "code",
   "execution_count": null,
   "id": "f22bc1a0",
   "metadata": {},
   "outputs": [],
   "source": [
    "feature_rank = pd.Series(best['LogReg'].coef_[0],index=X_train.columns).sort_values(ascending=False)\n",
    "top_10 = feature_rank.tail()\n",
    "sns.barplot(top_10,top_10.index)"
   ]
  },
  {
   "cell_type": "code",
   "execution_count": null,
   "id": "461ac7b4",
   "metadata": {},
   "outputs": [],
   "source": [
    "pd.Series(best['LogReg'].coef_[0],index=X_train.columns).to_frame()"
   ]
  },
  {
   "cell_type": "code",
   "execution_count": null,
   "id": "0b8e0e84",
   "metadata": {
    "scrolled": true
   },
   "outputs": [],
   "source": [
    "feature_rank = pd.Series(best['Smote_XGBC'].feature_importances_,index=X_train.columns).sort_values(ascending=False)\n",
    "top_10 = feature_rank.head(10)\n",
    "sns.barplot(top_10,top_10.index)"
   ]
  },
  {
   "cell_type": "code",
   "execution_count": null,
   "id": "0cf33b8c",
   "metadata": {},
   "outputs": [],
   "source": []
  },
  {
   "cell_type": "markdown",
   "id": "c6c3daf1",
   "metadata": {},
   "source": [
    "# Random Forest"
   ]
  },
  {
   "cell_type": "code",
   "execution_count": null,
   "id": "c101f898",
   "metadata": {
    "scrolled": true
   },
   "outputs": [],
   "source": [
    "best['RF'] = run_suite('randomforestclassifier',smote=False)\n",
    "best['Smote_RF'] = run_suite('randomforestclassifier',smote=True)"
   ]
  },
  {
   "cell_type": "code",
   "execution_count": null,
   "id": "383b91fe",
   "metadata": {},
   "outputs": [],
   "source": [
    "feature_rank = pd.Series(best['Smote_RF'].feature_importances_,index=X_train.columns).sort_values(ascending=False)\n",
    "top_10 = feature_rank.head(10)\n",
    "sns.barplot(top_10,top_10.index)"
   ]
  },
  {
   "cell_type": "code",
   "execution_count": null,
   "id": "2dd118be",
   "metadata": {},
   "outputs": [],
   "source": [
    "feature_rank = pd.Series(best['RF'].feature_importances_,index=X_train.columns).sort_values(ascending=False)\n",
    "top_10 = feature_rank.head(10)\n",
    "sns.barplot(top_10,top_10.index)"
   ]
  },
  {
   "cell_type": "markdown",
   "id": "39937e83",
   "metadata": {},
   "source": [
    "### Predictive Model"
   ]
  },
  {
   "cell_type": "code",
   "execution_count": null,
   "id": "aa8fa044",
   "metadata": {},
   "outputs": [],
   "source": []
  },
  {
   "cell_type": "code",
   "execution_count": null,
   "id": "acd3675c",
   "metadata": {},
   "outputs": [],
   "source": []
  },
  {
   "cell_type": "code",
   "execution_count": null,
   "id": "fc6ab8c8",
   "metadata": {},
   "outputs": [],
   "source": []
  },
  {
   "cell_type": "code",
   "execution_count": null,
   "id": "09c37ed1",
   "metadata": {},
   "outputs": [],
   "source": []
  },
  {
   "cell_type": "code",
   "execution_count": null,
   "id": "cf39bf08",
   "metadata": {
    "scrolled": true
   },
   "outputs": [],
   "source": []
  },
  {
   "cell_type": "code",
   "execution_count": null,
   "id": "149e17cc",
   "metadata": {},
   "outputs": [],
   "source": []
  }
 ],
 "metadata": {
  "kernelspec": {
   "display_name": "Python 3 (ipykernel)",
   "language": "python",
   "name": "python3"
  },
  "language_info": {
   "codemirror_mode": {
    "name": "ipython",
    "version": 3
   },
   "file_extension": ".py",
   "mimetype": "text/x-python",
   "name": "python",
   "nbconvert_exporter": "python",
   "pygments_lexer": "ipython3",
   "version": "3.8.12"
  }
 },
 "nbformat": 4,
 "nbformat_minor": 5
}
